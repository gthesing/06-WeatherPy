{
 "cells": [
  {
   "cell_type": "markdown",
   "metadata": {},
   "source": [
    "### Dependencies and Setup"
   ]
  },
  {
   "cell_type": "code",
   "execution_count": 1,
   "metadata": {},
   "outputs": [],
   "source": [
    "# Dependencies\n",
    "\n",
    "import csv\n",
    "import matplotlib.pyplot as plt\n",
    "import pandas as pd\n",
    "import numpy as np\n",
    "import requests\n",
    "import time\n",
    "from api_keys import api_key\n",
    "from citipy import citipy"
   ]
  },
  {
   "cell_type": "code",
   "execution_count": 2,
   "metadata": {},
   "outputs": [],
   "source": [
    "# Other Setup\n",
    "\n",
    "# API url setup\n",
    "url = \"http://api.openweathermap.org/data/2.5/\"\n",
    "units = \"imperial\"\n",
    "data_type = \"weather\"   #forecast/weather whatever\n",
    "\n",
    "#move this down later\n",
    "query_url = f\"{url}{data_type}?appid={api_key}&units={units}&q=\"\n",
    "\n",
    "# Output File (CSV)\n",
    "output_data_file = \"output_data/cities.csv\"\n",
    "\n",
    "# Range of latitudes and longitudes\n",
    "lat_range = (-90, 90)\n",
    "lng_range = (-180, 180)"
   ]
  },
  {
   "cell_type": "markdown",
   "metadata": {},
   "source": [
    "### Generating cities list"
   ]
  },
  {
   "cell_type": "code",
   "execution_count": 3,
   "metadata": {},
   "outputs": [
    {
     "data": {
      "text/plain": [
       "641"
      ]
     },
     "execution_count": 3,
     "metadata": {},
     "output_type": "execute_result"
    }
   ],
   "source": [
    "# List for holding lat_lngs and cities\n",
    "lat_lngs = []\n",
    "cities = []\n",
    "\n",
    "# Create a set of random lat and lng combinations\n",
    "lats = np.random.uniform(low=-90.000, high=90.000, size=1500)\n",
    "lngs = np.random.uniform(low=-180.000, high=180.000, size=1500)\n",
    "lat_lngs = zip(lats, lngs)\n",
    "\n",
    "# Identify nearest city for each lat, lng combination\n",
    "for lat_lng in lat_lngs:\n",
    "    city = citipy.nearest_city(lat_lng[0], lat_lng[1]).city_name\n",
    "    \n",
    "    # If the city is unique, then add it to a our cities list\n",
    "    if city not in cities:\n",
    "        cities.append(city)\n",
    "\n",
    "# Print the city count to confirm sufficient count\n",
    "len(cities)\n",
    "\n",
    "\n",
    "\n",
    "# consider adding a country code above to minimize failed calls due to cities having non-unique names\n",
    "# may need to change size in the randomized lat and long lists "
   ]
  },
  {
   "cell_type": "code",
   "execution_count": 4,
   "metadata": {},
   "outputs": [
    {
     "name": "stdout",
     "output_type": "stream",
     "text": [
      "qaanaaq\n",
      "tasiilaq\n",
      "qasigiannguit\n",
      "matara\n",
      "arraial do cabo\n"
     ]
    }
   ],
   "source": [
    "for i in range(0, 5):\n",
    "    print(cities[i])"
   ]
  },
  {
   "cell_type": "code",
   "execution_count": 5,
   "metadata": {},
   "outputs": [
    {
     "ename": "SyntaxError",
     "evalue": "invalid syntax (<ipython-input-5-0765b1ae51db>, line 30)",
     "output_type": "error",
     "traceback": [
      "\u001b[1;36m  File \u001b[1;32m\"<ipython-input-5-0765b1ae51db>\"\u001b[1;36m, line \u001b[1;32m30\u001b[0m\n\u001b[1;33m    print(f'{city}, code={r['id']}')\u001b[0m\n\u001b[1;37m                              ^\u001b[0m\n\u001b[1;31mSyntaxError\u001b[0m\u001b[1;31m:\u001b[0m invalid syntax\n"
     ]
    }
   ],
   "source": [
    "# For loop to get data for each city in the cities list\n",
    "\n",
    "cities_with_data = []\n",
    "lat = []\n",
    "temp = []\n",
    "humid = []\n",
    "cloud = []\n",
    "wind = []\n",
    "\n",
    "pause = 0\n",
    "\n",
    "for i in range(0, len(cities)):\n",
    "    if pause > 57:\n",
    "        time.sleep(61)\n",
    "        pause = 0\n",
    "    city = cities[i]\n",
    "    r = requests.get(query_url + city).json()\n",
    "    # if statement to skip any 404 responses\n",
    "    if r['cod'] == '404':\n",
    "        pause = pause + 1\n",
    "        print(f'{city} could not be found, skipping...')\n",
    "        continue\n",
    "    else:\n",
    "        cities_with_data.append(city)\n",
    "        lat.append(r['coord']['lat'])\n",
    "        temp.append(r['main']['temp'])\n",
    "        humid.append(r['main']['humidity'])\n",
    "        cloud.append(r['clouds']['all'])\n",
    "        wind.append(r['wind']['speed'])\n",
    "        city_id = r['id']\n",
    "        print(f'{city}, code={city_id}')\n",
    "    pause = pause + 1\n"
   ]
  },
  {
   "cell_type": "code",
   "execution_count": null,
   "metadata": {},
   "outputs": [],
   "source": [
    "pause"
   ]
  },
  {
   "cell_type": "code",
   "execution_count": null,
   "metadata": {},
   "outputs": [],
   "source": [
    "# Place data in dictionary\n",
    "weather_dict = {\n",
    "    \"city\":cities_with_data,\n",
    "    'latitude':lat,\n",
    "    \"temperature\":temp,\n",
    "    'humidity':humid,\n",
    "    'cloudiness':cloud,\n",
    "    'wind_speed':wind\n",
    "}\n",
    "\n",
    "# Make sure each key in the dicionary has the same number of values\n",
    "test_length = []\n",
    "\n",
    "for key, value in weather_dict.items():\n",
    "    x = len(weather_dict[key])\n",
    "    test_length.append(x)\n",
    "\n",
    "test_length"
   ]
  },
  {
   "cell_type": "code",
   "execution_count": null,
   "metadata": {},
   "outputs": [],
   "source": [
    "test_length"
   ]
  },
  {
   "cell_type": "code",
   "execution_count": null,
   "metadata": {},
   "outputs": [],
   "source": [
    "# Convert data in dictionary to dataframe\n",
    "\n",
    "df_weather_data = pd.DataFrame(weather_dict)"
   ]
  },
  {
   "cell_type": "code",
   "execution_count": null,
   "metadata": {},
   "outputs": [],
   "source": [
    "# Preview of dataframe\n",
    "df_weather_data.head(20)"
   ]
  },
  {
   "cell_type": "code",
   "execution_count": null,
   "metadata": {},
   "outputs": [],
   "source": [
    "# Check of dataframe size\n",
    "df_weather_data.shape"
   ]
  },
  {
   "cell_type": "code",
   "execution_count": null,
   "metadata": {},
   "outputs": [],
   "source": [
    "# Save and export data as csv file\n",
    "\n",
    "df_weather_data.to_csv(output_data_file, sep=',', index=False)"
   ]
  },
  {
   "cell_type": "code",
   "execution_count": null,
   "metadata": {},
   "outputs": [],
   "source": []
  },
  {
   "cell_type": "code",
   "execution_count": null,
   "metadata": {},
   "outputs": [],
   "source": []
  }
 ],
 "metadata": {
  "kernelspec": {
   "display_name": "Pandas_ex_env",
   "language": "python",
   "name": "pandas_ex_env"
  },
  "language_info": {
   "codemirror_mode": {
    "name": "ipython",
    "version": 3
   },
   "file_extension": ".py",
   "mimetype": "text/x-python",
   "name": "python",
   "nbconvert_exporter": "python",
   "pygments_lexer": "ipython3",
   "version": "3.7.0"
  }
 },
 "nbformat": 4,
 "nbformat_minor": 2
}
